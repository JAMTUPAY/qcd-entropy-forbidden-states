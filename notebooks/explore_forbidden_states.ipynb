{
 "cells": [
  {
   "cell_type": "markdown",
   "metadata": {},
   "source": [
    "# Entropy Forbidden States Explorer\n",
    "## Universal Entropy Budget |ΔS_RG| = 9.81 kB\n",
    "\n",
    "This notebook explores the entropy-forbidden exotic hadrons framework."
   ]
  },
  {
   "cell_type": "code",
   "execution_count": null,
   "metadata": {},
   "outputs": [],
   "source": [
    "import pandas as pd\n",
    "import numpy as np\n",
    "import matplotlib.pyplot as plt\n",
    "\n",
    "# Constants from our framework\n",
    "DELTA_S_RG = 9.81  # kB - Universal entropy budget\n",
    "print(f'Universal Entropy Budget: {DELTA_S_RG} kB')"
   ]
  },
  {
   "cell_type": "markdown",
   "metadata": {},
   "source": [
    "## Load the Forbidden States Catalog"
   ]
  },
  {
   "cell_type": "code",
   "execution_count": null,
   "metadata": {},
   "outputs": [],
   "source": [
    "# Load the data\n",
    "df = pd.read_csv('../data/forbidden_states_catalog.csv')\n",
    "print(f'Total configurations analyzed: {len(df):,}')\n",
    "print(f'\\nStatus breakdown:')\n",
    "print(df['status'].value_counts())\n",
    "print(f'\\nAllowed fraction: {(df[\"status\"]==\"Allowed\").mean():.1%}')"
   ]
  },
  {
   "cell_type": "markdown",
   "metadata": {},
   "source": [
    "## Test X(6900) Prediction"
   ]
  },
  {
   "cell_type": "code",
   "execution_count": null,
   "metadata": {},
   "outputs": [],
   "source": [
    "# X(6900) parameters\n",
    "def predict_X6900():\n",
    "    # Entropy contribution\n",
    "    c0 = 83.5  # MeV/kB\n",
    "    m_entropy = DELTA_S_RG * c0 / 1000  # GeV\n",
    "    \n",
    "    # Heavy quarks: cccc̄\n",
    "    m_c = 1.28  # GeV\n",
    "    m_heavy = 4 * m_c\n",
    "    \n",
    "    # Multi-quark repulsion\n",
    "    repulsion = 0.95  # GeV\n",
    "    \n",
    "    # Diquark binding\n",
    "    binding = 2 * 0.08  # Two cc diquarks\n",
    "    \n",
    "    M_predicted = m_entropy + m_heavy + repulsion - binding\n",
    "    return M_predicted\n",
    "\n",
    "M_pred = predict_X6900()\n",
    "M_obs = 6.900\n",
    "print(f'X(6900) Prediction: {M_pred:.3f} GeV')\n",
    "print(f'X(6900) Observed:   {M_obs:.3f} GeV')\n",
    "print(f'Difference:         {M_pred - M_obs:.3f} GeV')\n",
    "print(f'\\nThreshold: J/ψ J/ψ = 6.194 GeV')\n",
    "print(f'ΔE = {M_pred - 6.194:.3f} GeV (threshold enhancement!)')"
   ]
  },
  {
   "cell_type": "markdown",
   "metadata": {},
   "source": [
    "## Visualize Status Distribution"
   ]
  },
  {
   "cell_type": "code",
   "execution_count": null,
   "metadata": {},
   "outputs": [],
   "source": [
    "# Plot status distribution\n",
    "status_counts = df['status'].value_counts()\n",
    "colors = {'Allowed': 'green', 'Energy': 'red', 'Pauli': 'orange'}\n",
    "plt.figure(figsize=(10, 6))\n",
    "bars = plt.bar(status_counts.index, status_counts.values, \n",
    "                color=[colors.get(s, 'gray') for s in status_counts.index])\n",
    "plt.title(f'Hadron Status Distribution (n ≤ 6)\\nTotal: {len(df):,} configurations', fontsize=14)\n",
    "plt.xlabel('Status', fontsize=12)\n",
    "plt.ylabel('Count', fontsize=12)\n",
    "for bar, count in zip(bars, status_counts.values):\n",
    "    plt.text(bar.get_x() + bar.get_width()/2, bar.get_height() + 100,\n",
    "             f'{count:,}\\n({count/len(df)*100:.1f}%)',\n",
    "             ha='center', va='bottom', fontsize=10)\n",
    "plt.tight_layout()\n",
    "plt.show()"
   ]
  },
  {
   "cell_type": "markdown",
   "metadata": {},
   "source": [
    "## Explore Discovery Priority"
   ]
  },
  {
   "cell_type": "code",
   "execution_count": null,
   "metadata": {},
   "outputs": [],
   "source": [
    "# Load discovery priority\n",
    "priority_df = pd.read_csv('../data/discovery_priority.csv')\n",
    "print('Top 5 Discovery Candidates:')\n",
    "print(priority_df[['quarks', 'B', 'S', 'J', 'dE']].head())"
   ]
  }
 ],
 "metadata": {
  "kernelspec": {
   "display_name": "Python 3",
   "language": "python",
   "name": "python3"
  },
  "language_info": {
   "codemirror_mode": {
    "name": "ipython",
    "version": 3
   },
   "file_extension": ".py",
   "mimetype": "text/x-python",
   "name": "python",
   "nbconvert_exporter": "python",
   "pygments_lexer": "ipython3",
   "version": "3.8.0"
  }
 },
 "nbformat": 4,
 "nbformat_minor": 4
}
